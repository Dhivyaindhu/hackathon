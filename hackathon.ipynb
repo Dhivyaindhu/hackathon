{
  "nbformat": 4,
  "nbformat_minor": 0,
  "metadata": {
    "colab": {
      "provenance": [],
      "authorship_tag": "ABX9TyNWhHVoSjvvZ7RBwoLPochV",
      "include_colab_link": true
    },
    "kernelspec": {
      "name": "python3",
      "display_name": "Python 3"
    },
    "language_info": {
      "name": "python"
    }
  },
  "cells": [
    {
      "cell_type": "markdown",
      "metadata": {
        "id": "view-in-github",
        "colab_type": "text"
      },
      "source": [
        "<a href=\"https://colab.research.google.com/github/Dhivyaindhu/hackathon/blob/main/hackathon.ipynb\" target=\"_parent\"><img src=\"https://colab.research.google.com/assets/colab-badge.svg\" alt=\"Open In Colab\"/></a>"
      ]
    },
    {
      "cell_type": "code",
      "execution_count": 55,
      "metadata": {
        "colab": {
          "base_uri": "https://localhost:8080/"
        },
        "id": "TCmx8fZOMagf",
        "outputId": "46f80921-f755-4b78-ff65-112a28003156"
      },
      "outputs": [
        {
          "output_type": "execute_result",
          "data": {
            "text/plain": [
              "(9742, 3)"
            ]
          },
          "metadata": {},
          "execution_count": 55
        }
      ],
      "source": [
        "import numpy as np\n",
        "import pandas as pd\n",
        "data= pd.read_csv('/content/movies.csv')\n",
        "data.head()\n",
        "data.shape"
      ]
    },
    {
      "cell_type": "code",
      "source": [
        "data.columns"
      ],
      "metadata": {
        "colab": {
          "base_uri": "https://localhost:8080/"
        },
        "id": "8uLF3c_GTVvH",
        "outputId": "53b83fc7-196b-4aca-f1bd-2a870cb2b57a"
      },
      "execution_count": 56,
      "outputs": [
        {
          "output_type": "execute_result",
          "data": {
            "text/plain": [
              "Index(['movieId', 'title', 'genres'], dtype='object')"
            ]
          },
          "metadata": {},
          "execution_count": 56
        }
      ]
    },
    {
      "cell_type": "code",
      "source": [
        "import numpy as np\n",
        "import pandas as pd\n",
        "data1= pd.read_csv(\"/content/ratings.csv\")\n",
        "data1.head()\n",
        "data1.shape"
      ],
      "metadata": {
        "colab": {
          "base_uri": "https://localhost:8080/"
        },
        "id": "mOCNmZD_PGjL",
        "outputId": "cdb6074e-f755-46f3-a995-4d95f3f1141f"
      },
      "execution_count": 57,
      "outputs": [
        {
          "output_type": "execute_result",
          "data": {
            "text/plain": [
              "(100836, 4)"
            ]
          },
          "metadata": {},
          "execution_count": 57
        }
      ]
    },
    {
      "cell_type": "code",
      "source": [
        "data1.columns"
      ],
      "metadata": {
        "colab": {
          "base_uri": "https://localhost:8080/"
        },
        "id": "xeqk97CFPu7O",
        "outputId": "e8150942-b70a-471d-e960-a562af09678c"
      },
      "execution_count": 58,
      "outputs": [
        {
          "output_type": "execute_result",
          "data": {
            "text/plain": [
              "Index(['userId', 'movieId', 'rating', 'timestamp'], dtype='object')"
            ]
          },
          "metadata": {},
          "execution_count": 58
        }
      ]
    },
    {
      "cell_type": "code",
      "source": [
        "data1.head(5)"
      ],
      "metadata": {
        "colab": {
          "base_uri": "https://localhost:8080/",
          "height": 206
        },
        "id": "RkRE31rIP2WI",
        "outputId": "50cade76-aefb-4f7c-ef00-c488fa4309f0"
      },
      "execution_count": 59,
      "outputs": [
        {
          "output_type": "execute_result",
          "data": {
            "text/plain": [
              "   userId  movieId  rating  timestamp\n",
              "0       1        1     4.0  964982703\n",
              "1       1        3     4.0  964981247\n",
              "2       1        6     4.0  964982224\n",
              "3       1       47     5.0  964983815\n",
              "4       1       50     5.0  964982931"
            ],
            "text/html": [
              "\n",
              "  <div id=\"df-e7804f33-7d1a-4339-84dd-de947d1dfa92\" class=\"colab-df-container\">\n",
              "    <div>\n",
              "<style scoped>\n",
              "    .dataframe tbody tr th:only-of-type {\n",
              "        vertical-align: middle;\n",
              "    }\n",
              "\n",
              "    .dataframe tbody tr th {\n",
              "        vertical-align: top;\n",
              "    }\n",
              "\n",
              "    .dataframe thead th {\n",
              "        text-align: right;\n",
              "    }\n",
              "</style>\n",
              "<table border=\"1\" class=\"dataframe\">\n",
              "  <thead>\n",
              "    <tr style=\"text-align: right;\">\n",
              "      <th></th>\n",
              "      <th>userId</th>\n",
              "      <th>movieId</th>\n",
              "      <th>rating</th>\n",
              "      <th>timestamp</th>\n",
              "    </tr>\n",
              "  </thead>\n",
              "  <tbody>\n",
              "    <tr>\n",
              "      <th>0</th>\n",
              "      <td>1</td>\n",
              "      <td>1</td>\n",
              "      <td>4.0</td>\n",
              "      <td>964982703</td>\n",
              "    </tr>\n",
              "    <tr>\n",
              "      <th>1</th>\n",
              "      <td>1</td>\n",
              "      <td>3</td>\n",
              "      <td>4.0</td>\n",
              "      <td>964981247</td>\n",
              "    </tr>\n",
              "    <tr>\n",
              "      <th>2</th>\n",
              "      <td>1</td>\n",
              "      <td>6</td>\n",
              "      <td>4.0</td>\n",
              "      <td>964982224</td>\n",
              "    </tr>\n",
              "    <tr>\n",
              "      <th>3</th>\n",
              "      <td>1</td>\n",
              "      <td>47</td>\n",
              "      <td>5.0</td>\n",
              "      <td>964983815</td>\n",
              "    </tr>\n",
              "    <tr>\n",
              "      <th>4</th>\n",
              "      <td>1</td>\n",
              "      <td>50</td>\n",
              "      <td>5.0</td>\n",
              "      <td>964982931</td>\n",
              "    </tr>\n",
              "  </tbody>\n",
              "</table>\n",
              "</div>\n",
              "    <div class=\"colab-df-buttons\">\n",
              "\n",
              "  <div class=\"colab-df-container\">\n",
              "    <button class=\"colab-df-convert\" onclick=\"convertToInteractive('df-e7804f33-7d1a-4339-84dd-de947d1dfa92')\"\n",
              "            title=\"Convert this dataframe to an interactive table.\"\n",
              "            style=\"display:none;\">\n",
              "\n",
              "  <svg xmlns=\"http://www.w3.org/2000/svg\" height=\"24px\" viewBox=\"0 -960 960 960\">\n",
              "    <path d=\"M120-120v-720h720v720H120Zm60-500h600v-160H180v160Zm220 220h160v-160H400v160Zm0 220h160v-160H400v160ZM180-400h160v-160H180v160Zm440 0h160v-160H620v160ZM180-180h160v-160H180v160Zm440 0h160v-160H620v160Z\"/>\n",
              "  </svg>\n",
              "    </button>\n",
              "\n",
              "  <style>\n",
              "    .colab-df-container {\n",
              "      display:flex;\n",
              "      gap: 12px;\n",
              "    }\n",
              "\n",
              "    .colab-df-convert {\n",
              "      background-color: #E8F0FE;\n",
              "      border: none;\n",
              "      border-radius: 50%;\n",
              "      cursor: pointer;\n",
              "      display: none;\n",
              "      fill: #1967D2;\n",
              "      height: 32px;\n",
              "      padding: 0 0 0 0;\n",
              "      width: 32px;\n",
              "    }\n",
              "\n",
              "    .colab-df-convert:hover {\n",
              "      background-color: #E2EBFA;\n",
              "      box-shadow: 0px 1px 2px rgba(60, 64, 67, 0.3), 0px 1px 3px 1px rgba(60, 64, 67, 0.15);\n",
              "      fill: #174EA6;\n",
              "    }\n",
              "\n",
              "    .colab-df-buttons div {\n",
              "      margin-bottom: 4px;\n",
              "    }\n",
              "\n",
              "    [theme=dark] .colab-df-convert {\n",
              "      background-color: #3B4455;\n",
              "      fill: #D2E3FC;\n",
              "    }\n",
              "\n",
              "    [theme=dark] .colab-df-convert:hover {\n",
              "      background-color: #434B5C;\n",
              "      box-shadow: 0px 1px 3px 1px rgba(0, 0, 0, 0.15);\n",
              "      filter: drop-shadow(0px 1px 2px rgba(0, 0, 0, 0.3));\n",
              "      fill: #FFFFFF;\n",
              "    }\n",
              "  </style>\n",
              "\n",
              "    <script>\n",
              "      const buttonEl =\n",
              "        document.querySelector('#df-e7804f33-7d1a-4339-84dd-de947d1dfa92 button.colab-df-convert');\n",
              "      buttonEl.style.display =\n",
              "        google.colab.kernel.accessAllowed ? 'block' : 'none';\n",
              "\n",
              "      async function convertToInteractive(key) {\n",
              "        const element = document.querySelector('#df-e7804f33-7d1a-4339-84dd-de947d1dfa92');\n",
              "        const dataTable =\n",
              "          await google.colab.kernel.invokeFunction('convertToInteractive',\n",
              "                                                    [key], {});\n",
              "        if (!dataTable) return;\n",
              "\n",
              "        const docLinkHtml = 'Like what you see? Visit the ' +\n",
              "          '<a target=\"_blank\" href=https://colab.research.google.com/notebooks/data_table.ipynb>data table notebook</a>'\n",
              "          + ' to learn more about interactive tables.';\n",
              "        element.innerHTML = '';\n",
              "        dataTable['output_type'] = 'display_data';\n",
              "        await google.colab.output.renderOutput(dataTable, element);\n",
              "        const docLink = document.createElement('div');\n",
              "        docLink.innerHTML = docLinkHtml;\n",
              "        element.appendChild(docLink);\n",
              "      }\n",
              "    </script>\n",
              "  </div>\n",
              "\n",
              "\n",
              "<div id=\"df-232470bc-61e7-4a2e-8820-2b8caf665d59\">\n",
              "  <button class=\"colab-df-quickchart\" onclick=\"quickchart('df-232470bc-61e7-4a2e-8820-2b8caf665d59')\"\n",
              "            title=\"Suggest charts\"\n",
              "            style=\"display:none;\">\n",
              "\n",
              "<svg xmlns=\"http://www.w3.org/2000/svg\" height=\"24px\"viewBox=\"0 0 24 24\"\n",
              "     width=\"24px\">\n",
              "    <g>\n",
              "        <path d=\"M19 3H5c-1.1 0-2 .9-2 2v14c0 1.1.9 2 2 2h14c1.1 0 2-.9 2-2V5c0-1.1-.9-2-2-2zM9 17H7v-7h2v7zm4 0h-2V7h2v10zm4 0h-2v-4h2v4z\"/>\n",
              "    </g>\n",
              "</svg>\n",
              "  </button>\n",
              "\n",
              "<style>\n",
              "  .colab-df-quickchart {\n",
              "      --bg-color: #E8F0FE;\n",
              "      --fill-color: #1967D2;\n",
              "      --hover-bg-color: #E2EBFA;\n",
              "      --hover-fill-color: #174EA6;\n",
              "      --disabled-fill-color: #AAA;\n",
              "      --disabled-bg-color: #DDD;\n",
              "  }\n",
              "\n",
              "  [theme=dark] .colab-df-quickchart {\n",
              "      --bg-color: #3B4455;\n",
              "      --fill-color: #D2E3FC;\n",
              "      --hover-bg-color: #434B5C;\n",
              "      --hover-fill-color: #FFFFFF;\n",
              "      --disabled-bg-color: #3B4455;\n",
              "      --disabled-fill-color: #666;\n",
              "  }\n",
              "\n",
              "  .colab-df-quickchart {\n",
              "    background-color: var(--bg-color);\n",
              "    border: none;\n",
              "    border-radius: 50%;\n",
              "    cursor: pointer;\n",
              "    display: none;\n",
              "    fill: var(--fill-color);\n",
              "    height: 32px;\n",
              "    padding: 0;\n",
              "    width: 32px;\n",
              "  }\n",
              "\n",
              "  .colab-df-quickchart:hover {\n",
              "    background-color: var(--hover-bg-color);\n",
              "    box-shadow: 0 1px 2px rgba(60, 64, 67, 0.3), 0 1px 3px 1px rgba(60, 64, 67, 0.15);\n",
              "    fill: var(--button-hover-fill-color);\n",
              "  }\n",
              "\n",
              "  .colab-df-quickchart-complete:disabled,\n",
              "  .colab-df-quickchart-complete:disabled:hover {\n",
              "    background-color: var(--disabled-bg-color);\n",
              "    fill: var(--disabled-fill-color);\n",
              "    box-shadow: none;\n",
              "  }\n",
              "\n",
              "  .colab-df-spinner {\n",
              "    border: 2px solid var(--fill-color);\n",
              "    border-color: transparent;\n",
              "    border-bottom-color: var(--fill-color);\n",
              "    animation:\n",
              "      spin 1s steps(1) infinite;\n",
              "  }\n",
              "\n",
              "  @keyframes spin {\n",
              "    0% {\n",
              "      border-color: transparent;\n",
              "      border-bottom-color: var(--fill-color);\n",
              "      border-left-color: var(--fill-color);\n",
              "    }\n",
              "    20% {\n",
              "      border-color: transparent;\n",
              "      border-left-color: var(--fill-color);\n",
              "      border-top-color: var(--fill-color);\n",
              "    }\n",
              "    30% {\n",
              "      border-color: transparent;\n",
              "      border-left-color: var(--fill-color);\n",
              "      border-top-color: var(--fill-color);\n",
              "      border-right-color: var(--fill-color);\n",
              "    }\n",
              "    40% {\n",
              "      border-color: transparent;\n",
              "      border-right-color: var(--fill-color);\n",
              "      border-top-color: var(--fill-color);\n",
              "    }\n",
              "    60% {\n",
              "      border-color: transparent;\n",
              "      border-right-color: var(--fill-color);\n",
              "    }\n",
              "    80% {\n",
              "      border-color: transparent;\n",
              "      border-right-color: var(--fill-color);\n",
              "      border-bottom-color: var(--fill-color);\n",
              "    }\n",
              "    90% {\n",
              "      border-color: transparent;\n",
              "      border-bottom-color: var(--fill-color);\n",
              "    }\n",
              "  }\n",
              "</style>\n",
              "\n",
              "  <script>\n",
              "    async function quickchart(key) {\n",
              "      const quickchartButtonEl =\n",
              "        document.querySelector('#' + key + ' button');\n",
              "      quickchartButtonEl.disabled = true;  // To prevent multiple clicks.\n",
              "      quickchartButtonEl.classList.add('colab-df-spinner');\n",
              "      try {\n",
              "        const charts = await google.colab.kernel.invokeFunction(\n",
              "            'suggestCharts', [key], {});\n",
              "      } catch (error) {\n",
              "        console.error('Error during call to suggestCharts:', error);\n",
              "      }\n",
              "      quickchartButtonEl.classList.remove('colab-df-spinner');\n",
              "      quickchartButtonEl.classList.add('colab-df-quickchart-complete');\n",
              "    }\n",
              "    (() => {\n",
              "      let quickchartButtonEl =\n",
              "        document.querySelector('#df-232470bc-61e7-4a2e-8820-2b8caf665d59 button');\n",
              "      quickchartButtonEl.style.display =\n",
              "        google.colab.kernel.accessAllowed ? 'block' : 'none';\n",
              "    })();\n",
              "  </script>\n",
              "</div>\n",
              "\n",
              "    </div>\n",
              "  </div>\n"
            ],
            "application/vnd.google.colaboratory.intrinsic+json": {
              "type": "dataframe",
              "variable_name": "data1"
            }
          },
          "metadata": {},
          "execution_count": 59
        }
      ]
    },
    {
      "cell_type": "code",
      "source": [
        "unique_user_ids = data1['userId'].nunique()\n",
        "\n",
        "print(f'Number of unique userIds: {unique_user_ids}')"
      ],
      "metadata": {
        "colab": {
          "base_uri": "https://localhost:8080/"
        },
        "id": "0Yr_e0CuQlSQ",
        "outputId": "ad4089f9-af5e-4011-aaae-6b6c8a74c5ec"
      },
      "execution_count": 60,
      "outputs": [
        {
          "output_type": "stream",
          "name": "stdout",
          "text": [
            "Number of unique userIds: 610\n"
          ]
        }
      ]
    },
    {
      "cell_type": "code",
      "source": [],
      "metadata": {
        "id": "Si8NQ7YvRQ5j"
      },
      "execution_count": null,
      "outputs": []
    },
    {
      "cell_type": "code",
      "source": [
        "movie_ratings_count = data1['movieId'].value_counts()\n",
        "\n",
        "# Find the movie with the maximum number of ratings\n",
        "most_rated_movie_id = movie_ratings_count.idxmax()\n",
        "max_ratings_count = movie_ratings_count.max()\n",
        "\n",
        "print(f'Movie ID with maximum number of ratings: {most_rated_movie_id}')\n",
        "print(f'Number of ratings received by this movie: {max_ratings_count}')\n"
      ],
      "metadata": {
        "colab": {
          "base_uri": "https://localhost:8080/"
        },
        "id": "HIN4BRlHRJNZ",
        "outputId": "fd5e5d1c-26e7-4b64-ef04-e6d85434085c"
      },
      "execution_count": 61,
      "outputs": [
        {
          "output_type": "stream",
          "name": "stdout",
          "text": [
            "Movie ID with maximum number of ratings: 356\n",
            "Number of ratings received by this movie: 329\n"
          ]
        }
      ]
    },
    {
      "cell_type": "code",
      "source": [
        "movie_ratings_count = data1['movieId'].value_counts()\n",
        "\n",
        "# Find the movie ID with the maximum number of ratings\n",
        "most_rated_movie_id = movie_ratings_count.idxmax()\n",
        "max_ratings_count = movie_ratings_count.max()\n",
        "\n",
        "# Get the name of the movie with the maximum ratings\n",
        "most_rated_movie_name = data.loc[data['movieId'] == most_rated_movie_id, 'title'].values[0]\n",
        "\n",
        "print(f'Movie with the maximum number of ratings: {most_rated_movie_name}')\n",
        "print(f'Number of ratings received by this movie: {max_ratings_count}')\n"
      ],
      "metadata": {
        "colab": {
          "base_uri": "https://localhost:8080/"
        },
        "id": "b6wIvpwUS8na",
        "outputId": "1f663cdf-0512-443a-c6a6-5f45855dcc49"
      },
      "execution_count": 62,
      "outputs": [
        {
          "output_type": "stream",
          "name": "stdout",
          "text": [
            "Movie with the maximum number of ratings: Forrest Gump (1994)\n",
            "Number of ratings received by this movie: 329\n"
          ]
        }
      ]
    },
    {
      "cell_type": "code",
      "source": [
        "tags = pd.read_csv('tags.csv')\n",
        "\n",
        "# Find the movieId for \"Matrix, The (1999)\"\n",
        "matrix_movie_id = data.loc[data['title'] == 'Matrix, The (1999)', 'movieId'].values[0]\n",
        "\n",
        "# Filter tags for \"Matrix, The (1999)\"\n",
        "matrix_tags = tags[tags['movieId'] == matrix_movie_id]\n",
        "\n",
        "# Display all unique tags submitted for the movie\n",
        "unique_tags = matrix_tags['tag'].unique()\n",
        "\n",
        "print(f\"All unique tags submitted by users for 'Matrix, The (1999)':\")\n",
        "print(unique_tags)\n",
        "print(f\"All unique tags submitted by users for 'Matrix, The (1999)':\")\n",
        "for tag in unique_tags:\n",
        "    print(tag)\n",
        "\n",
        "\n",
        "\n",
        "\n",
        "\n",
        "\n",
        "\n",
        "\n",
        "\n",
        "\n"
      ],
      "metadata": {
        "colab": {
          "base_uri": "https://localhost:8080/"
        },
        "id": "XIzxtvEKUL6A",
        "outputId": "a4846041-1ddf-4dd6-e0e9-54a881446c66"
      },
      "execution_count": 63,
      "outputs": [
        {
          "output_type": "stream",
          "name": "stdout",
          "text": [
            "All unique tags submitted by users for 'Matrix, The (1999)':\n",
            "['martial arts' 'sci-fi' 'alternate universe' 'philosophy'\n",
            " 'post apocalyptic']\n",
            "All unique tags submitted by users for 'Matrix, The (1999)':\n",
            "martial arts\n",
            "sci-fi\n",
            "alternate universe\n",
            "philosophy\n",
            "post apocalyptic\n"
          ]
        }
      ]
    },
    {
      "cell_type": "code",
      "source": [
        "\n",
        "\n",
        "# Find the movieId for \"Terminator 2: Judgment Day (1991)\"\n",
        "terminator_movie_id = data.loc[data['title'] == 'Terminator 2: Judgment Day (1991)', 'movieId'].values[0]\n",
        "\n",
        "# Filter ratings for \"Terminator 2: Judgment Day (1991)\"\n",
        "terminator_ratings = data1[data1['movieId'] == terminator_movie_id]\n",
        "\n",
        "# Calculate the average rating\n",
        "average_rating = terminator_ratings['rating'].mean()\n",
        "\n",
        "print(f\"The average user rating for 'Terminator 2: Judgment Day (1991)' is: {average_rating:.2f}\")\n"
      ],
      "metadata": {
        "colab": {
          "base_uri": "https://localhost:8080/"
        },
        "id": "SF6ZD3-CVbPO",
        "outputId": "87239be1-ad8e-41c2-86de-4debc7693c8a"
      },
      "execution_count": 64,
      "outputs": [
        {
          "output_type": "stream",
          "name": "stdout",
          "text": [
            "The average user rating for 'Terminator 2: Judgment Day (1991)' is: 3.97\n"
          ]
        }
      ]
    },
    {
      "cell_type": "code",
      "source": [
        "import matplotlib.pyplot as plt\n",
        "import seaborn as sns\n",
        "\n",
        "# Find the movieId for \"Fight Club (1999)\"\n",
        "fight_club_movie_id = data.loc[data['title'] == 'Fight Club (1999)', 'movieId'].values[0]\n",
        "\n",
        "# Filter ratings for \"Fight Club (1999)\"\n",
        "fight_club_ratings = data1[data1['movieId'] == fight_club_movie_id]['rating']\n",
        "\n",
        "# Plotting the histogram of user ratings\n",
        "plt.figure(figsize=(10, 5))\n",
        "sns.histplot(fight_club_ratings, bins=10, kde=True, color='skyblue')\n",
        "plt.title('Distribution of User Ratings for \"Fight Club (1999)\"')\n",
        "plt.xlabel('Rating')\n",
        "plt.ylabel('Frequency')\n",
        "plt.show()\n",
        "\n",
        "# Plotting the box plot of user ratings\n",
        "plt.figure(figsize=(7, 4))\n",
        "sns.boxplot(x=fight_club_ratings, color='skyblue')\n",
        "plt.title('Box Plot of User Ratings for \"Fight Club (1999)\"')\n",
        "plt.xlabel('Rating')\n",
        "plt.show()\n"
      ],
      "metadata": {
        "colab": {
          "base_uri": "https://localhost:8080/",
          "height": 867
        },
        "id": "84C__5sMWMvb",
        "outputId": "95f9c718-fc76-4aaa-cef4-1c2f17151cf5"
      },
      "execution_count": 65,
      "outputs": [
        {
          "output_type": "display_data",
          "data": {
            "text/plain": [
              "<Figure size 1000x500 with 1 Axes>"
            ],
            "image/png": "[encoded data removed]"
          },
          "metadata": {}
        },
        {
          "output_type": "display_data",
          "data": {
            "text/plain": [
              "<Figure size 700x400 with 1 Axes>"
            ],
            "image/png": "[encoded data removed]"
          },
          "metadata": {}
        }
      ]
    },
    {
      "cell_type": "code",
      "source": [
        "import pandas as pd\n",
        "import numpy as np\n",
        "import scipy.stats as stats\n",
        "import matplotlib.pyplot as plt\n",
        "\n",
        "# Find the movieId for \"Fight Club (1999)\"\n",
        "fight_club_movie_id = data.loc[data['title'] == 'Fight Club (1999)', 'movieId'].values[0]\n",
        "\n",
        "# Filter ratings for \"Fight Club (1999)\"\n",
        "fight_club_ratings = data1[data1['movieId'] == fight_club_movie_id]['rating']\n",
        "\n",
        "# List of distributions to check\n",
        "distributions = ['norm', 'expon', 'uniform', 'gamma', 'beta']\n",
        "\n",
        "# Fit the data to each distribution and calculate the K-S statistic\n",
        "best_fit_name = ''\n",
        "best_fit_params = ()\n",
        "best_fit_stat = np.inf  # Start with an infinitely large K-S statistic\n",
        "\n",
        "for dist_name in distributions:\n",
        "    dist = getattr(stats, dist_name)\n",
        "    params = dist.fit(fight_club_ratings)\n",
        "    # Perform the Kolmogorov-Smirnov test\n",
        "    ks_stat, p_value = stats.kstest(fight_club_ratings, dist_name, args=params)\n",
        "\n",
        "    if ks_stat < best_fit_stat:\n",
        "        best_fit_name = dist_name\n",
        "        best_fit_params = params\n",
        "        best_fit_stat = ks_stat\n",
        "\n",
        "print(f\"The best-fitting distribution is: {best_fit_name}\")\n",
        "print(f\"Parameters of the best-fitting distribution: {best_fit_params}\")\n"
      ],
      "metadata": {
        "colab": {
          "base_uri": "https://localhost:8080/"
        },
        "id": "pWVmJx1pW-qS",
        "outputId": "d80f0baf-d1b1-4079-a185-6dcca5225629"
      },
      "execution_count": 66,
      "outputs": [
        {
          "output_type": "stream",
          "name": "stdout",
          "text": [
            "The best-fitting distribution is: norm\n",
            "Parameters of the best-fitting distribution: (4.272935779816514, 0.8594064548229576)\n"
          ]
        },
        {
          "output_type": "stream",
          "name": "stderr",
          "text": [
            "/usr/local/lib/python3.10/dist-packages/scipy/stats/_continuous_distns.py:716: RuntimeWarning: invalid value encountered in sqrt\n",
            "  sk = 2*(b-a)*np.sqrt(a + b + 1) / (a + b + 2) / np.sqrt(a*b)\n",
            "/usr/local/lib/python3.10/dist-packages/scipy/stats/_continuous_distns.py:721: RuntimeWarning: The iteration is not making good progress, as measured by the \n",
            "  improvement from the last ten iterations.\n",
            "  a, b = optimize.fsolve(func, (1.0, 1.0))\n"
          ]
        }
      ]
    },
    {
      "cell_type": "code",
      "source": [
        "import pandas as pd\n",
        "\n",
        "# Group the ratings by movieId and calculate the average rating for each movie\n",
        "average_ratings = data1.groupby('movieId')['rating'].mean()\n",
        "\n",
        "# Find the movieId with the highest average rating\n",
        "most_popular_movie_id = average_ratings.idxmax()\n",
        "highest_average_rating = average_ratings.max()\n",
        "\n",
        "# Find the movie title corresponding to the most popular movieId\n",
        "most_popular_movie_title = data.loc[data['movieId'] == most_popular_movie_id, 'title'].values[0]\n",
        "\n",
        "print(f\"The most popular movie based on average user ratings is: {most_popular_movie_title}\")\n",
        "print(f\"Average rating: {highest_average_rating:.2f}\")\n"
      ],
      "metadata": {
        "colab": {
          "base_uri": "https://localhost:8080/"
        },
        "id": "o78kfoemXl1o",
        "outputId": "af64b536-46f8-4721-9d2c-3cffb41a4bed"
      },
      "execution_count": null,
      "outputs": [
        {
          "output_type": "stream",
          "name": "stdout",
          "text": [
            "The most popular movie based on average user ratings is: Lamerica (1994)\n",
            "Average rating: 5.00\n"
          ]
        }
      ]
    },
    {
      "cell_type": "code",
      "source": [
        "import pandas as pd\n",
        "import scipy.stats as stats\n",
        "\n",
        "# List of movies to check\n",
        "movie_titles = [\n",
        "    'Godfather, The (1972)',\n",
        "    'Shawshank Redemption, The (1994)',\n",
        "    'Jumanji (1995)',\n",
        "    'Wolf of Wall Street, The (2013)'\n",
        "]\n",
        "\n",
        "# Dictionary to store average ratings\n",
        "average_ratings = {}\n",
        "\n",
        "# Fit distributions and calculate average ratings for each movie\n",
        "for title in movie_titles:\n",
        "    # Find the movieId for the current movie\n",
        "    movie_id = data.loc[data['title'] == title, 'movieId'].values[0]\n",
        "\n",
        "    # Filter ratings for the current movie\n",
        "    movie_ratings = data1[data1['movieId'] == movie_id]['rating']\n",
        "\n",
        "    # Calculate the average rating\n",
        "    avg_rating = movie_ratings.mean()\n",
        "    average_ratings[title] = avg_rating\n",
        "\n",
        "    # Fit distributions\n",
        "    distributions = ['norm', 'expon', 'uniform', 'gamma', 'beta']\n",
        "    best_fit_stat = float('inf')  # Start with an infinitely large K-S statistic\n",
        "\n",
        "    for dist_name in distributions:\n",
        "        dist = getattr(stats, dist_name)\n",
        "        params = dist.fit(movie_ratings)\n",
        "        ks_stat, _ = stats.kstest(movie_ratings, dist_name, args=params)\n",
        "\n",
        "        if ks_stat < best_fit_stat:\n",
        "            best_fit_name = dist_name\n",
        "            best_fit_stat = ks_stat\n",
        "\n",
        "    print(f\"Movie: {title}\")\n",
        "    print(f\"Best-fitting distribution: {best_fit_name}\")\n",
        "    print(f\"Average rating: {avg_rating:.2f}\")\n",
        "    print()\n",
        "\n",
        "# Find the most popular movie based on average rating\n",
        "most_popular_movie = max(average_ratings, key=average_ratings.get)\n",
        "highest_average_rating = average_ratings[most_popular_movie]\n",
        "\n",
        "print(f\"The most popular movie based on average user ratings is: {most_popular_movie}\")\n",
        "print(f\"Average rating: {highest_average_rating:.2f}\")\n"
      ],
      "metadata": {
        "colab": {
          "base_uri": "https://localhost:8080/"
        },
        "id": "c729LiJzYG2K",
        "outputId": "84899e07-4583-4f37-e16c-0c9fa295f789"
      },
      "execution_count": null,
      "outputs": [
        {
          "output_type": "stream",
          "name": "stderr",
          "text": [
            "/usr/local/lib/python3.10/dist-packages/scipy/stats/_continuous_distns.py:716: RuntimeWarning: invalid value encountered in sqrt\n",
            "  sk = 2*(b-a)*np.sqrt(a + b + 1) / (a + b + 2) / np.sqrt(a*b)\n"
          ]
        },
        {
          "output_type": "stream",
          "name": "stdout",
          "text": [
            "Movie: Godfather, The (1972)\n",
            "Best-fitting distribution: gamma\n",
            "Average rating: 4.29\n",
            "\n",
            "Movie: Shawshank Redemption, The (1994)\n",
            "Best-fitting distribution: gamma\n",
            "Average rating: 4.43\n",
            "\n",
            "Movie: Jumanji (1995)\n",
            "Best-fitting distribution: beta\n",
            "Average rating: 3.43\n",
            "\n",
            "Movie: Wolf of Wall Street, The (2013)\n",
            "Best-fitting distribution: norm\n",
            "Average rating: 3.92\n",
            "\n",
            "The most popular movie based on average user ratings is: Shawshank Redemption, The (1994)\n",
            "Average rating: 4.43\n"
          ]
        },
        {
          "output_type": "stream",
          "name": "stderr",
          "text": [
            "/usr/local/lib/python3.10/dist-packages/scipy/stats/_continuous_distns.py:721: RuntimeWarning: The iteration is not making good progress, as measured by the \n",
            "  improvement from the last ten iterations.\n",
            "  a, b = optimize.fsolve(func, (1.0, 1.0))\n"
          ]
        }
      ]
    },
    {
      "cell_type": "code",
      "source": [
        "import pandas as pd\n",
        "\n",
        "\n",
        "\n",
        "# Step 1: Group user ratings based on movieId and calculate count and mean\n",
        "rating_stats = data1.groupby('movieId').agg({'rating': ['count', 'mean']})\n",
        "rating_stats.columns = ['rating_count', 'average_rating']  # Flatten the multi-level columns\n",
        "\n",
        "# Step 2: Join with movies dataframe\n",
        "movies_with_ratings = pd.merge(data, rating_stats, left_on='movieId', right_index=True)\n",
        "\n",
        "# Step 3: Filter movies with more than 50 user ratings\n",
        "popular_movies = movies_with_ratings[movies_with_ratings['rating_count'] > 50]\n",
        "\n",
        "# Step 4: Identify the movie with the highest average rating\n",
        "most_popular_movie = popular_movies.loc[popular_movies['average_rating'].idxmax()]\n",
        "\n",
        "print(f\"The most popular movie based on average user ratings is: {most_popular_movie['title']}\")\n",
        "print(f\"Average rating: {most_popular_movie['average_rating']:.2f}\")\n",
        "print(f\"Number of ratings: {most_popular_movie['rating_count']}\")\n"
      ],
      "metadata": {
        "colab": {
          "base_uri": "https://localhost:8080/"
        },
        "id": "EG_c4_1gY_Z7",
        "outputId": "3c3a4933-6402-4e24-a703-018dd700babd"
      },
      "execution_count": 74,
      "outputs": [
        {
          "output_type": "stream",
          "name": "stdout",
          "text": [
            "The most popular movie based on average user ratings is: Shawshank Redemption, The (1994)\n",
            "Average rating: 4.43\n",
            "Number of ratings: 317\n"
          ]
        }
      ]
    },
    {
      "cell_type": "code",
      "source": [
        "import pandas as pd\n",
        "\n",
        "#\n",
        "\n",
        "# Step 1: Group user ratings based on movieId and calculate count\n",
        "rating_stats = data1.groupby('movieId').agg({'rating': 'count'})\n",
        "rating_stats.columns = ['rating_count']\n",
        "\n",
        "# Step 2: Join with movies dataframe\n",
        "movies_with_ratings = pd.merge(data, rating_stats, left_on='movieId', right_index=True)\n",
        "\n",
        "# Step 3: Filter movies with more than 50 user ratings\n",
        "popular_movies = movies_with_ratings[movies_with_ratings['rating_count'] > 50]\n",
        "\n",
        "# Step 4: Select the top 5 movies based on the number of user ratings\n",
        "top_5_movies = popular_movies.nlargest(5, 'rating_count')\n",
        "\n",
        "# Display the top 5 movies\n",
        "print(\"Top 5 popular movies based on the number of user ratings:\")\n",
        "print(top_5_movies[['title', 'rating_count']])\n"
      ],
      "metadata": {
        "colab": {
          "base_uri": "https://localhost:8080/"
        },
        "id": "AmfMDE1-Z2BV",
        "outputId": "485808bf-bc4b-488d-8d24-d7dedfd60c83"
      },
      "execution_count": 68,
      "outputs": [
        {
          "output_type": "stream",
          "name": "stdout",
          "text": [
            "Top 5 popular movies based on the number of user ratings:\n",
            "                                 title  rating_count\n",
            "314                Forrest Gump (1994)           329\n",
            "277   Shawshank Redemption, The (1994)           317\n",
            "257                Pulp Fiction (1994)           307\n",
            "510   Silence of the Lambs, The (1991)           279\n",
            "1939                Matrix, The (1999)           278\n"
          ]
        }
      ]
    },
    {
      "cell_type": "code",
      "source": [
        "import pandas as pd\n",
        "\n",
        "# Step 1: Group user ratings based on movieId and calculate count\n",
        "rating_stats = data1.groupby('movieId').agg({'rating': 'count'})\n",
        "rating_stats.columns = ['rating_count']\n",
        "\n",
        "# Step 2: Join with movies dataframe\n",
        "movies_with_ratings = pd.merge(data, rating_stats, left_on='movieId', right_index=True)\n",
        "\n",
        "# Step 3: Filter movies with more than 50 user ratings\n",
        "popular_movies = movies_with_ratings[movies_with_ratings['rating_count'] > 50]\n",
        "\n",
        "# Step 4: Filter Sci-Fi movies\n",
        "sci_fi_movies = popular_movies[popular_movies['genres'].str.contains('Sci-Fi')]\n",
        "\n",
        "# Step 5: Sort Sci-Fi movies by the number of user ratings\n",
        "sci_fi_movies_sorted = sci_fi_movies.sort_values(by='rating_count', ascending=False)\n",
        "\n",
        "# Step 6: Select the third most popular Sci-Fi movie\n",
        "third_most_popular_sci_fi = sci_fi_movies_sorted.iloc[2]  # Index 2 corresponds to the third movie\n",
        "\n",
        "print(f\"The third most popular Sci-Fi movie based on the number of user ratings is: {third_most_popular_sci_fi['title']}\")\n",
        "print(f\"Number of ratings: {third_most_popular_sci_fi['rating_count']}\")\n"
      ],
      "metadata": {
        "colab": {
          "base_uri": "https://localhost:8080/"
        },
        "id": "D8w1-S3Mahd5",
        "outputId": "717470ff-4a60-477d-c154-035b2645f568"
      },
      "execution_count": 69,
      "outputs": [
        {
          "output_type": "stream",
          "name": "stdout",
          "text": [
            "The third most popular Sci-Fi movie based on the number of user ratings is: Jurassic Park (1993)\n",
            "Number of ratings: 238\n"
          ]
        }
      ]
    },
    {
      "cell_type": "code",
      "source": [
        "import pandas as pd\n",
        "\n",
        "# Load the links dataset\n",
        "links = pd.read_csv('/content/links.csv')\n",
        "\n",
        "# Merge the datasets to get IMDB IDs\n",
        "movies_with_imdb = pd.merge( data1,links, on='movieId')\n"
      ],
      "metadata": {
        "id": "0_-roboKbR_z"
      },
      "execution_count": 70,
      "outputs": []
    },
    {
      "cell_type": "code",
      "source": [
        "links.head()"
      ],
      "metadata": {
        "colab": {
          "base_uri": "https://localhost:8080/",
          "height": 206
        },
        "id": "AcDHN9kIjzQX",
        "outputId": "46f0ce34-3166-4d28-cea8-c1ee239f8f04"
      },
      "execution_count": 46,
      "outputs": [
        {
          "output_type": "execute_result",
          "data": {
            "text/plain": [
              "   movieId  imdbId   tmdbId\n",
              "0        1  114709    862.0\n",
              "1        2  113497   8844.0\n",
              "2        3  113228  15602.0\n",
              "3        4  114885  31357.0\n",
              "4        5  113041  11862.0"
            ],
            "text/html": [
              "\n",
              "  <div id=\"df-7805ec6b-0403-4057-9e0e-c1049721120d\" class=\"colab-df-container\">\n",
              "    <div>\n",
              "<style scoped>\n",
              "    .dataframe tbody tr th:only-of-type {\n",
              "        vertical-align: middle;\n",
              "    }\n",
              "\n",
              "    .dataframe tbody tr th {\n",
              "        vertical-align: top;\n",
              "    }\n",
              "\n",
              "    .dataframe thead th {\n",
              "        text-align: right;\n",
              "    }\n",
              "</style>\n",
              "<table border=\"1\" class=\"dataframe\">\n",
              "  <thead>\n",
              "    <tr style=\"text-align: right;\">\n",
              "      <th></th>\n",
              "      <th>movieId</th>\n",
              "      <th>imdbId</th>\n",
              "      <th>tmdbId</th>\n",
              "    </tr>\n",
              "  </thead>\n",
              "  <tbody>\n",
              "    <tr>\n",
              "      <th>0</th>\n",
              "      <td>1</td>\n",
              "      <td>114709</td>\n",
              "      <td>862.0</td>\n",
              "    </tr>\n",
              "    <tr>\n",
              "      <th>1</th>\n",
              "      <td>2</td>\n",
              "      <td>113497</td>\n",
              "      <td>8844.0</td>\n",
              "    </tr>\n",
              "    <tr>\n",
              "      <th>2</th>\n",
              "      <td>3</td>\n",
              "      <td>113228</td>\n",
              "      <td>15602.0</td>\n",
              "    </tr>\n",
              "    <tr>\n",
              "      <th>3</th>\n",
              "      <td>4</td>\n",
              "      <td>114885</td>\n",
              "      <td>31357.0</td>\n",
              "    </tr>\n",
              "    <tr>\n",
              "      <th>4</th>\n",
              "      <td>5</td>\n",
              "      <td>113041</td>\n",
              "      <td>11862.0</td>\n",
              "    </tr>\n",
              "  </tbody>\n",
              "</table>\n",
              "</div>\n",
              "    <div class=\"colab-df-buttons\">\n",
              "\n",
              "  <div class=\"colab-df-container\">\n",
              "    <button class=\"colab-df-convert\" onclick=\"convertToInteractive('df-7805ec6b-0403-4057-9e0e-c1049721120d')\"\n",
              "            title=\"Convert this dataframe to an interactive table.\"\n",
              "            style=\"display:none;\">\n",
              "\n",
              "  <svg xmlns=\"http://www.w3.org/2000/svg\" height=\"24px\" viewBox=\"0 -960 960 960\">\n",
              "    <path d=\"M120-120v-720h720v720H120Zm60-500h600v-160H180v160Zm220 220h160v-160H400v160Zm0 220h160v-160H400v160ZM180-400h160v-160H180v160Zm440 0h160v-160H620v160ZM180-180h160v-160H180v160Zm440 0h160v-160H620v160Z\"/>\n",
              "  </svg>\n",
              "    </button>\n",
              "\n",
              "  <style>\n",
              "    .colab-df-container {\n",
              "      display:flex;\n",
              "      gap: 12px;\n",
              "    }\n",
              "\n",
              "    .colab-df-convert {\n",
              "      background-color: #E8F0FE;\n",
              "      border: none;\n",
              "      border-radius: 50%;\n",
              "      cursor: pointer;\n",
              "      display: none;\n",
              "      fill: #1967D2;\n",
              "      height: 32px;\n",
              "      padding: 0 0 0 0;\n",
              "      width: 32px;\n",
              "    }\n",
              "\n",
              "    .colab-df-convert:hover {\n",
              "      background-color: #E2EBFA;\n",
              "      box-shadow: 0px 1px 2px rgba(60, 64, 67, 0.3), 0px 1px 3px 1px rgba(60, 64, 67, 0.15);\n",
              "      fill: #174EA6;\n",
              "    }\n",
              "\n",
              "    .colab-df-buttons div {\n",
              "      margin-bottom: 4px;\n",
              "    }\n",
              "\n",
              "    [theme=dark] .colab-df-convert {\n",
              "      background-color: #3B4455;\n",
              "      fill: #D2E3FC;\n",
              "    }\n",
              "\n",
              "    [theme=dark] .colab-df-convert:hover {\n",
              "      background-color: #434B5C;\n",
              "      box-shadow: 0px 1px 3px 1px rgba(0, 0, 0, 0.15);\n",
              "      filter: drop-shadow(0px 1px 2px rgba(0, 0, 0, 0.3));\n",
              "      fill: #FFFFFF;\n",
              "    }\n",
              "  </style>\n",
              "\n",
              "    <script>\n",
              "      const buttonEl =\n",
              "        document.querySelector('#df-7805ec6b-0403-4057-9e0e-c1049721120d button.colab-df-convert');\n",
              "      buttonEl.style.display =\n",
              "        google.colab.kernel.accessAllowed ? 'block' : 'none';\n",
              "\n",
              "      async function convertToInteractive(key) {\n",
              "        const element = document.querySelector('#df-7805ec6b-0403-4057-9e0e-c1049721120d');\n",
              "        const dataTable =\n",
              "          await google.colab.kernel.invokeFunction('convertToInteractive',\n",
              "                                                    [key], {});\n",
              "        if (!dataTable) return;\n",
              "\n",
              "        const docLinkHtml = 'Like what you see? Visit the ' +\n",
              "          '<a target=\"_blank\" href=https://colab.research.google.com/notebooks/data_table.ipynb>data table notebook</a>'\n",
              "          + ' to learn more about interactive tables.';\n",
              "        element.innerHTML = '';\n",
              "        dataTable['output_type'] = 'display_data';\n",
              "        await google.colab.output.renderOutput(dataTable, element);\n",
              "        const docLink = document.createElement('div');\n",
              "        docLink.innerHTML = docLinkHtml;\n",
              "        element.appendChild(docLink);\n",
              "      }\n",
              "    </script>\n",
              "  </div>\n",
              "\n",
              "\n",
              "<div id=\"df-c3628007-2857-4d81-8069-2e39e5b91591\">\n",
              "  <button class=\"colab-df-quickchart\" onclick=\"quickchart('df-c3628007-2857-4d81-8069-2e39e5b91591')\"\n",
              "            title=\"Suggest charts\"\n",
              "            style=\"display:none;\">\n",
              "\n",
              "<svg xmlns=\"http://www.w3.org/2000/svg\" height=\"24px\"viewBox=\"0 0 24 24\"\n",
              "     width=\"24px\">\n",
              "    <g>\n",
              "        <path d=\"M19 3H5c-1.1 0-2 .9-2 2v14c0 1.1.9 2 2 2h14c1.1 0 2-.9 2-2V5c0-1.1-.9-2-2-2zM9 17H7v-7h2v7zm4 0h-2V7h2v10zm4 0h-2v-4h2v4z\"/>\n",
              "    </g>\n",
              "</svg>\n",
              "  </button>\n",
              "\n",
              "<style>\n",
              "  .colab-df-quickchart {\n",
              "      --bg-color: #E8F0FE;\n",
              "      --fill-color: #1967D2;\n",
              "      --hover-bg-color: #E2EBFA;\n",
              "      --hover-fill-color: #174EA6;\n",
              "      --disabled-fill-color: #AAA;\n",
              "      --disabled-bg-color: #DDD;\n",
              "  }\n",
              "\n",
              "  [theme=dark] .colab-df-quickchart {\n",
              "      --bg-color: #3B4455;\n",
              "      --fill-color: #D2E3FC;\n",
              "      --hover-bg-color: #434B5C;\n",
              "      --hover-fill-color: #FFFFFF;\n",
              "      --disabled-bg-color: #3B4455;\n",
              "      --disabled-fill-color: #666;\n",
              "  }\n",
              "\n",
              "  .colab-df-quickchart {\n",
              "    background-color: var(--bg-color);\n",
              "    border: none;\n",
              "    border-radius: 50%;\n",
              "    cursor: pointer;\n",
              "    display: none;\n",
              "    fill: var(--fill-color);\n",
              "    height: 32px;\n",
              "    padding: 0;\n",
              "    width: 32px;\n",
              "  }\n",
              "\n",
              "  .colab-df-quickchart:hover {\n",
              "    background-color: var(--hover-bg-color);\n",
              "    box-shadow: 0 1px 2px rgba(60, 64, 67, 0.3), 0 1px 3px 1px rgba(60, 64, 67, 0.15);\n",
              "    fill: var(--button-hover-fill-color);\n",
              "  }\n",
              "\n",
              "  .colab-df-quickchart-complete:disabled,\n",
              "  .colab-df-quickchart-complete:disabled:hover {\n",
              "    background-color: var(--disabled-bg-color);\n",
              "    fill: var(--disabled-fill-color);\n",
              "    box-shadow: none;\n",
              "  }\n",
              "\n",
              "  .colab-df-spinner {\n",
              "    border: 2px solid var(--fill-color);\n",
              "    border-color: transparent;\n",
              "    border-bottom-color: var(--fill-color);\n",
              "    animation:\n",
              "      spin 1s steps(1) infinite;\n",
              "  }\n",
              "\n",
              "  @keyframes spin {\n",
              "    0% {\n",
              "      border-color: transparent;\n",
              "      border-bottom-color: var(--fill-color);\n",
              "      border-left-color: var(--fill-color);\n",
              "    }\n",
              "    20% {\n",
              "      border-color: transparent;\n",
              "      border-left-color: var(--fill-color);\n",
              "      border-top-color: var(--fill-color);\n",
              "    }\n",
              "    30% {\n",
              "      border-color: transparent;\n",
              "      border-left-color: var(--fill-color);\n",
              "      border-top-color: var(--fill-color);\n",
              "      border-right-color: var(--fill-color);\n",
              "    }\n",
              "    40% {\n",
              "      border-color: transparent;\n",
              "      border-right-color: var(--fill-color);\n",
              "      border-top-color: var(--fill-color);\n",
              "    }\n",
              "    60% {\n",
              "      border-color: transparent;\n",
              "      border-right-color: var(--fill-color);\n",
              "    }\n",
              "    80% {\n",
              "      border-color: transparent;\n",
              "      border-right-color: var(--fill-color);\n",
              "      border-bottom-color: var(--fill-color);\n",
              "    }\n",
              "    90% {\n",
              "      border-color: transparent;\n",
              "      border-bottom-color: var(--fill-color);\n",
              "    }\n",
              "  }\n",
              "</style>\n",
              "\n",
              "  <script>\n",
              "    async function quickchart(key) {\n",
              "      const quickchartButtonEl =\n",
              "        document.querySelector('#' + key + ' button');\n",
              "      quickchartButtonEl.disabled = true;  // To prevent multiple clicks.\n",
              "      quickchartButtonEl.classList.add('colab-df-spinner');\n",
              "      try {\n",
              "        const charts = await google.colab.kernel.invokeFunction(\n",
              "            'suggestCharts', [key], {});\n",
              "      } catch (error) {\n",
              "        console.error('Error during call to suggestCharts:', error);\n",
              "      }\n",
              "      quickchartButtonEl.classList.remove('colab-df-spinner');\n",
              "      quickchartButtonEl.classList.add('colab-df-quickchart-complete');\n",
              "    }\n",
              "    (() => {\n",
              "      let quickchartButtonEl =\n",
              "        document.querySelector('#df-c3628007-2857-4d81-8069-2e39e5b91591 button');\n",
              "      quickchartButtonEl.style.display =\n",
              "        google.colab.kernel.accessAllowed ? 'block' : 'none';\n",
              "    })();\n",
              "  </script>\n",
              "</div>\n",
              "\n",
              "    </div>\n",
              "  </div>\n"
            ],
            "application/vnd.google.colaboratory.intrinsic+json": {
              "type": "dataframe",
              "variable_name": "links",
              "summary": "{\n  \"name\": \"links\",\n  \"rows\": 9742,\n  \"fields\": [\n    {\n      \"column\": \"movieId\",\n      \"properties\": {\n        \"dtype\": \"number\",\n        \"std\": 52160,\n        \"min\": 1,\n        \"max\": 193609,\n        \"num_unique_values\": 9742,\n        \"samples\": [\n          45635,\n          1373,\n          7325\n        ],\n        \"semantic_type\": \"\",\n        \"description\": \"\"\n      }\n    },\n    {\n      \"column\": \"imdbId\",\n      \"properties\": {\n        \"dtype\": \"number\",\n        \"std\": 1107227,\n        \"min\": 417,\n        \"max\": 8391976,\n        \"num_unique_values\": 9742,\n        \"samples\": [\n          404802,\n          98382,\n          335438\n        ],\n        \"semantic_type\": \"\",\n        \"description\": \"\"\n      }\n    },\n    {\n      \"column\": \"tmdbId\",\n      \"properties\": {\n        \"dtype\": \"number\",\n        \"std\": 93653.48148734067,\n        \"min\": 2.0,\n        \"max\": 525662.0,\n        \"num_unique_values\": 9733,\n        \"samples\": [\n          18168.0,\n          38357.0,\n          51620.0\n        ],\n        \"semantic_type\": \"\",\n        \"description\": \"\"\n      }\n    }\n  ]\n}"
            }
          },
          "metadata": {},
          "execution_count": 46
        }
      ]
    },
    {
      "cell_type": "code",
      "source": [
        "links.columns"
      ],
      "metadata": {
        "colab": {
          "base_uri": "https://localhost:8080/"
        },
        "id": "l7l6cMqulZuY",
        "outputId": "9bc9e6b3-b444-40d3-fe1f-6dc0f6c92ce3"
      },
      "execution_count": 50,
      "outputs": [
        {
          "output_type": "execute_result",
          "data": {
            "text/plain": [
              "Index(['movieId', 'imdbId', 'tmdbId'], dtype='object')"
            ]
          },
          "metadata": {},
          "execution_count": 50
        }
      ]
    },
    {
      "cell_type": "code",
      "source": [
        "import pandas as pd\n",
        "\n",
        "# Load the dataset that contains IMDB ratings\n",
        "# Assuming 'links.csv' contains 'movieId', 'imdbId', and 'imdb_rating'\n",
        "\n",
        "# Merge the datasets to have both movie titles and IMDB ratings\n",
        "movies_with_ratings = pd.merge(data, links, on='movieId')\n",
        "\n",
        "# Find the movie with the highest IMDB rating\n",
        "highest_rating_movie = links.loc[links['imdbId'].idxmax()]\n",
        "print(f\"The movie with the highest IMDB rating is: {data['title']} (movieId: {data1['movieId']})\")\n",
        "\n",
        "\n",
        "print(f\"IMDB Rating: {highest_rating_movie['imdbId']:.2f}\")\n"
      ],
      "metadata": {
        "colab": {
          "base_uri": "https://localhost:8080/"
        },
        "id": "2-8Hdr7lkyGk",
        "outputId": "8b785c93-7623-43db-d4d7-0848c82c8860"
      },
      "execution_count": 80,
      "outputs": [
        {
          "output_type": "stream",
          "name": "stdout",
          "text": [
            "The movie with the highest IMDB rating is: 0                                Toy Story (1995)\n",
            "1                                  Jumanji (1995)\n",
            "2                         Grumpier Old Men (1995)\n",
            "3                        Waiting to Exhale (1995)\n",
            "4              Father of the Bride Part II (1995)\n",
            "                          ...                    \n",
            "9737    Black Butler: Book of the Atlantic (2017)\n",
            "9738                 No Game No Life: Zero (2017)\n",
            "9739                                 Flint (2017)\n",
            "9740          Bungo Stray Dogs: Dead Apple (2018)\n",
            "9741          Andrew Dice Clay: Dice Rules (1991)\n",
            "Name: title, Length: 9742, dtype: object (movieId: 0              1\n",
            "1              3\n",
            "2              6\n",
            "3             47\n",
            "4             50\n",
            "           ...  \n",
            "100831    166534\n",
            "100832    168248\n",
            "100833    168250\n",
            "100834    168252\n",
            "100835    170875\n",
            "Name: movieId, Length: 100836, dtype: int64)\n",
            "IMDB Rating: 8391976.00\n"
          ]
        }
      ]
    },
    {
      "cell_type": "code",
      "source": [
        "import pandas as pd\n",
        "\n",
        "# Load the dataset containing IMDB ratings\n",
        "# Assuming 'links.csv' contains 'movieId' and 'imdb_rating'\n",
        "\n",
        "\n",
        "# Merge the datasets to combine movie titles with IMDB ratings\n",
        "movies_with_ratings = pd.merge(movies, links, on='movieId')\n",
        "\n",
        "# Find the movieId with the highest IMDB rating\n",
        "highest_rating_movie = links.loc[links['imdbId'].idxmax()]\n",
        "\n",
        "# Print the results\n",
        "print(f\"The movieId with the highest IMDB rating is: {data1['movieId']}\")\n",
        "print(f\"IMDB Rating: {links['imdbId']:.2f}\")\n"
      ],
      "metadata": {
        "colab": {
          "base_uri": "https://localhost:8080/",
          "height": 402
        },
        "id": "Gj8c00HRodUQ",
        "outputId": "f734b0d9-52f8-48f6-e89a-97bfca85751d"
      },
      "execution_count": 87,
      "outputs": [
        {
          "output_type": "stream",
          "name": "stdout",
          "text": [
            "The movieId with the highest IMDB rating is: 0              1\n",
            "1              3\n",
            "2              6\n",
            "3             47\n",
            "4             50\n",
            "           ...  \n",
            "100831    166534\n",
            "100832    168248\n",
            "100833    168250\n",
            "100834    168252\n",
            "100835    170875\n",
            "Name: movieId, Length: 100836, dtype: int64\n"
          ]
        },
        {
          "output_type": "error",
          "ename": "TypeError",
          "evalue": "unsupported format string passed to Series.__format__",
          "traceback": [
            "\u001b[0;31m---------------------------------------------------------------------------\u001b[0m",
            "\u001b[0;31mTypeError\u001b[0m                                 Traceback (most recent call last)",
            "\u001b[0;32m<ipython-input-87-24c84d19769a>\u001b[0m in \u001b[0;36m<cell line: 15>\u001b[0;34m()\u001b[0m\n\u001b[1;32m     13\u001b[0m \u001b[0;31m# Print the results\u001b[0m\u001b[0;34m\u001b[0m\u001b[0;34m\u001b[0m\u001b[0m\n\u001b[1;32m     14\u001b[0m \u001b[0mprint\u001b[0m\u001b[0;34m(\u001b[0m\u001b[0;34mf\"The movieId with the highest IMDB rating is: {data1['movieId']}\"\u001b[0m\u001b[0;34m)\u001b[0m\u001b[0;34m\u001b[0m\u001b[0;34m\u001b[0m\u001b[0m\n\u001b[0;32m---> 15\u001b[0;31m \u001b[0mprint\u001b[0m\u001b[0;34m(\u001b[0m\u001b[0;34mf\"IMDB Rating: {links['imdbId']:.2f}\"\u001b[0m\u001b[0;34m)\u001b[0m\u001b[0;34m\u001b[0m\u001b[0;34m\u001b[0m\u001b[0m\n\u001b[0m",
            "\u001b[0;31mTypeError\u001b[0m: unsupported format string passed to Series.__format__"
          ]
        }
      ]
    },
    {
      "source": [
        "import pandas as pd\n",
        "\n",
        "# ... (Your existing code)\n",
        "\n",
        "# Find the movieId with the highest IMDB rating\n",
        "highest_rating_movie = links.loc[links['imdbId'].idxmax()]\n",
        "\n",
        "# Print the results\n",
        "print(f\"The movieId with the highest IMDB rating is: {highest_rating_movie['movieId']}\")  # Use the highest_rating_movie Series to access the specific movieId\n",
        "print(f\"IMDB Rating: {highest_rating_movie['imdbId']}\")  # No need to format imdbId as it's likely an integer"
      ],
      "cell_type": "code",
      "metadata": {
        "colab": {
          "base_uri": "https://localhost:8080/"
        },
        "id": "NziaQWwypfU_",
        "outputId": "d3ccf7fb-ad95-4b80-8ac1-a214000ac96f"
      },
      "execution_count": 88,
      "outputs": [
        {
          "output_type": "stream",
          "name": "stdout",
          "text": [
            "The movieId with the highest IMDB rating is: 193587.0\n",
            "IMDB Rating: 8391976.0\n"
          ]
        }
      ]
    },
    {
      "cell_type": "code",
      "source": [
        "import pandas as pd\n",
        "\n",
        "# Load the datasets\n",
        "# Assuming 'links.csv' contains 'movieId' and 'imdb_rating'\n",
        "links = pd.read_csv('/content/links.csv')\n",
        "\n",
        "# Assuming 'movies.csv' contains 'movieId', 'title', and 'genres'\n",
        "\n",
        "\n",
        "# Filter Sci-Fi movies\n",
        "# If genres are in the 'movies' dataset\n",
        "sci_fi_movies = data[data['genres'].str.contains('Sci-Fi')]\n",
        "\n",
        "# Merge with the links dataset to get IMDB ratings\n",
        "sci_fi_movies_with_ratings = pd.merge(data, links, on='movieId')\n",
        "\n",
        "# Find the Sci-Fi movieId with the highest IMDB rating\n",
        "highest_rating_sci_fi_movie = sci_fi_movies_with_ratings.loc[sci_fi_movies_with_ratings['imdbId'].idxmax()]\n",
        "\n",
        "# Print the result\n",
        "print(f\"The movieId of the Sci-Fi movie with the highest IMDB rating is: {highest_rating_sci_fi_movie['movieId']}\")\n",
        "print(f\"IMDB Rating: {highest_rating_sci_fi_movie['imdbId']:.2f}\")\n"
      ],
      "metadata": {
        "colab": {
          "base_uri": "https://localhost:8080/"
        },
        "id": "q-vEoLz-pxuS",
        "outputId": "428672a6-283f-4cf6-9d62-10b3541aced3"
      },
      "execution_count": 91,
      "outputs": [
        {
          "output_type": "stream",
          "name": "stdout",
          "text": [
            "The movieId of the Sci-Fi movie with the highest IMDB rating is: 193587\n",
            "IMDB Rating: 8391976.00\n"
          ]
        }
      ]
    },
    {
      "cell_type": "code",
      "source": [],
      "metadata": {
        "id": "Ad4Hit33qReI"
      },
      "execution_count": null,
      "outputs": []
    }
  ]
}